{
 "cells": [
  {
   "cell_type": "code",
   "execution_count": 5,
   "id": "f887cdfd",
   "metadata": {},
   "outputs": [],
   "source": [
    "import os\n",
    "import nest_asyncio\n",
    "import asyncpg\n",
    "from pyspark.sql import SparkSession\n",
    "import pandas as pd\n",
    "from pathlib import Path"
   ]
  },
  {
   "cell_type": "code",
   "execution_count": 6,
   "id": "670f7b4b",
   "metadata": {},
   "outputs": [],
   "source": [
    "nest_asyncio.apply()\n",
    "\n",
    "DB_CONFIG = {\n",
    "    \"user\": os.getenv(\"POSTGRES_USER\", \"admin\"),\n",
    "    \"password\": os.getenv(\"POSTGRES_PASSWORD\", \"admin\"),\n",
    "    \"database\": os.getenv(\"POSTGRES_DB\", \"tender\"),\n",
    "    \"host\": os.getenv(\"POSTGRES_HOST\", \"postgre\"),\n",
    "    \"port\": int(os.getenv(\"POSTGRES_PORT\", 5432))\n",
    "}\n",
    "\n",
    "async def read_table_as_df() -> pd.DataFrame:\n",
    "    conn = await asyncpg.connect(**DB_CONFIG)\n",
    "    rows = await conn.fetch(\"SELECT * FROM tenders\")\n",
    "    df = pd.DataFrame([dict(row) for row in rows])\n",
    "    await conn.close()\n",
    "    return df\n"
   ]
  },
  {
   "cell_type": "code",
   "execution_count": 7,
   "id": "bb1aa10c",
   "metadata": {},
   "outputs": [
    {
     "name": "stdout",
     "output_type": "stream",
     "text": [
      "tender.csv already exists at: /opt/workspace/tender.csv\n"
     ]
    }
   ],
   "source": [
    "tender_csv_name = \"tender.csv\"\n",
    "tender_csv_path = Path.cwd() / tender_csv_name\n",
    "\n",
    "if not tender_csv_path.is_file():\n",
    "    df = await read_table_as_df()\n",
    "    df.to_csv(tender_csv_path, index=False)\n",
    "    print(f\"Saved tender data to: {tender_csv_path}\")\n",
    "else:\n",
    "    print(f\"{tender_csv_name} already exists at: {tender_csv_path}\")\n"
   ]
  },
  {
   "cell_type": "code",
   "execution_count": 8,
   "id": "d828a9be",
   "metadata": {},
   "outputs": [
    {
     "name": "stderr",
     "output_type": "stream",
     "text": [
      "25/04/12 13:55:09 WARN SparkSession: Using an existing Spark session; only runtime SQL configurations will take effect.\n"
     ]
    }
   ],
   "source": [
    "spark = SparkSession.builder \\\n",
    "                    .appName(\"File_to_spark\") \\\n",
    "                    .getOrCreate()\n",
    "\n",
    "spark.sparkContext.setLogLevel(\"ERROR\")"
   ]
  },
  {
   "cell_type": "code",
   "execution_count": 14,
   "id": "af150ec1-cd8c-4e52-8703-f58a2b9959a2",
   "metadata": {},
   "outputs": [
    {
     "name": "stdout",
     "output_type": "stream",
     "text": [
      "+--------------------+--------------------+--------------------+-------------+--------------------+-------------+--------------------+--------------------+--------------------+--------------------+-------------------+-------------------+--------------------+--------------------+--------------------+--------------------+\n",
      "|                 _c0|                  id|                date|deadline_date|               title|     category|         description|               phase|               place|       awarded_value|   awarded_currency|       awarded_date|      suppliers_name|               count|        offers_count|        request_json|\n",
      "+--------------------+--------------------+--------------------+-------------+--------------------+-------------+--------------------+--------------------+--------------------+--------------------+-------------------+-------------------+--------------------+--------------------+--------------------+--------------------+\n",
      "|                   0|               35930|          2021-10-17|   2021-10-25|Tenki Csicsergő Ó...|constructions|Kiegészítő építés...|E60 - Szerződéskö...|         HU312 Heves|          10590000.0|                HUF|         2021-11-14|Szilágyi Sándor J...|                   1|                   2|\"{\"\"page_count\"\":...|\n",
      "|                   1|               35928|          2021-09-09|   2021-09-27|Sóskút – egyesüle...|constructions|189,76 m2 hasznos...|E60 - Szerződéskö...|          HU120 Pest|         147506522.0|                HUF|         2021-11-14|OutSys Szolgáltat...|                   1|                   3|\"{\"\"page_count\"\":...|\n",
      "|                   2|               35876|          2021-09-14|   2021-10-01|Bölcsőde építése ...|constructions|Bölcsőde építése ...|E60 - Szerződéskö...|   HU321 Hajdú-Bihar|         107993318.0|                HUF|         2021-11-13|Németh '99 Keresk...|                   1|                   2|\"{\"\"page_count\"\":...|\n",
      "|                   3|               35980|          2021-08-07|   2021-08-18|„Kádár utcai park...|constructions|Beszerzés tárgya ...|E60 - Szerződéskö...|      HU213 Veszprém|         139479109.0|                HUF|         2021-11-16|Colas Út Építőipa...|                   1|                   3|\"{\"\"page_count\"\":...|\n",
      "|                   4|               35927|          2021-06-29|   2021-07-28|Szolnok, csomópon...|constructions|„Szolnok, kanyaro...|E60 - Szerződéskö...|HU322 Jász-Nagyku...|         286163120.0|                HUF|         2021-11-14|SWIETELSKY Építő ...|                   1|                   2|\"{\"\"page_count\"\":...|\n",
      "|                   5|               35875|          2021-09-12|   2021-09-27|Ajka, Táncsics, K...|constructions|Ajka, Táncsics, K...|E60 - Szerződéskö...|      HU213 Veszprém|         138501066.0|                HUF|         2021-11-13|STRABAG Általános...|                   1|                   3|\"{\"\"page_count\"\":...|\n",
      "|                   6|               34994|          2021-10-11|   2021-10-26|Élelmiszerek, éle...|     supplies|nehézárú, tészta,...|                NULL|                NULL|                NULL|               NULL|               NULL|                NULL|                NULL|                NULL|                NULL|\n",
      "|            szerint\"|E60 - Szerződéskö...|       HU231 Baranya|   41208016.0|                 HUF|   2021-11-16|Becze József egyé...|                   1|                   2|\"{\"\"page_count\"\":...| \"\"page_number\"\": 1| \"\"page_size\"\": 100|    \"\"total\"\": 35938| \"\"data\"\": [{\"\"id...| \"\"date\"\": \"\"2021...| \"\"deadline_date\"...|\n",
      "|                   7|               34854|          2021-10-06|   2021-10-19|Hulladékgyűjtő zs...|     supplies|II.1.3) A szerződ...|                NULL|                NULL|                NULL|               NULL|               NULL|                NULL|                NULL|                NULL|                NULL|\n",
      "|II.1.4) A közbesz...|                NULL|                NULL|         NULL|                NULL|         NULL|                NULL|                NULL|                NULL|                NULL|               NULL|               NULL|                NULL|                NULL|                NULL|                NULL|\n",
      "|PE hulladékgyűjtő...| eltérő feliratoz...|                NULL|         NULL|                NULL|         NULL|                NULL|                NULL|                NULL|                NULL|               NULL|               NULL|                NULL|                NULL|                NULL|                NULL|\n",
      "|A beszerzendő hul...| beszerzendő menn...| rendelési mennyi...|         NULL|                NULL|         NULL|                NULL|                NULL|                NULL|                NULL|               NULL|               NULL|                NULL|                NULL|                NULL|                NULL|\n",
      "|  Anyaga: polietilén|                NULL|                NULL|         NULL|                NULL|         NULL|                NULL|                NULL|                NULL|                NULL|               NULL|               NULL|                NULL|                NULL|                NULL|                NULL|\n",
      "|Sorszám Megnevezé...|                NULL|                NULL|         NULL|                NULL|         NULL|                NULL|                NULL|                NULL|                NULL|               NULL|               NULL|                NULL|                NULL|                NULL|                NULL|\n",
      "|       összesen (db)|                NULL|                NULL|         NULL|                NULL|         NULL|                NULL|                NULL|                NULL|                NULL|               NULL|               NULL|                NULL|                NULL|                NULL|                NULL|\n",
      "|1. Vidéki kommuná...|                NULL|                NULL|         NULL|                NULL|         NULL|                NULL|                NULL|                NULL|                NULL|               NULL|               NULL|                NULL|                NULL|                NULL|                NULL|\n",
      "|2. Db-i kommunáli...|                NULL|                NULL|         NULL|                NULL|         NULL|                NULL|                NULL|                NULL|                NULL|               NULL|               NULL|                NULL|                NULL|                NULL|                NULL|\n",
      "|3. Szelektíves ci...|                NULL|                NULL|         NULL|                NULL|         NULL|                NULL|                NULL|                NULL|                NULL|               NULL|               NULL|                NULL|                NULL|                NULL|                NULL|\n",
      "|4. Lépcsőházi sze...|                NULL|                NULL|         NULL|                NULL|         NULL|                NULL|                NULL|                NULL|                NULL|               NULL|               NULL|                NULL|                NULL|                NULL|                NULL|\n",
      "|5. Db-i ÖK lombgy...|                NULL|                NULL|         NULL|                NULL|         NULL|                NULL|                NULL|                NULL|                NULL|               NULL|               NULL|                NULL|                NULL|                NULL|                NULL|\n",
      "+--------------------+--------------------+--------------------+-------------+--------------------+-------------+--------------------+--------------------+--------------------+--------------------+-------------------+-------------------+--------------------+--------------------+--------------------+--------------------+\n",
      "only showing top 20 rows\n",
      "\n",
      "root\n",
      " |-- _c0: string (nullable = true)\n",
      " |-- id: string (nullable = true)\n",
      " |-- date: string (nullable = true)\n",
      " |-- deadline_date: string (nullable = true)\n",
      " |-- title: string (nullable = true)\n",
      " |-- category: string (nullable = true)\n",
      " |-- description: string (nullable = true)\n",
      " |-- phase: string (nullable = true)\n",
      " |-- place: string (nullable = true)\n",
      " |-- awarded_value: string (nullable = true)\n",
      " |-- awarded_currency: string (nullable = true)\n",
      " |-- awarded_date: string (nullable = true)\n",
      " |-- suppliers_name: string (nullable = true)\n",
      " |-- count: string (nullable = true)\n",
      " |-- offers_count: string (nullable = true)\n",
      " |-- request_json: string (nullable = true)\n",
      "\n"
     ]
    }
   ],
   "source": [
    "df = spark.read.csv(tender_csv_path.as_posix(), header=True, inferSchema=True)\n",
    "\n",
    "df.show()\n",
    "df.printSchema()"
   ]
  },
  {
   "cell_type": "code",
   "execution_count": 23,
   "id": "ee74f10b-d6a1-48cd-8863-80941915671f",
   "metadata": {},
   "outputs": [
    {
     "name": "stdout",
     "output_type": "stream",
     "text": [
      "98\n",
      "+--------------------+--------------------+--------------------+--------------------+--------------------+-------------+--------------------+--------------------+--------------------+--------------------+--------------------+-------------------+--------------------+--------------------+--------------------+\n",
      "|                 _c0|                  id|                date|       deadline_date|               title|     category|         description|               phase|               place|       awarded_value|    awarded_currency|       awarded_date|      suppliers_name|               count|        offers_count|\n",
      "+--------------------+--------------------+--------------------+--------------------+--------------------+-------------+--------------------+--------------------+--------------------+--------------------+--------------------+-------------------+--------------------+--------------------+--------------------+\n",
      "|                   0|               35930|          2021-10-17|          2021-10-25|Tenki Csicsergő Ó...|constructions|Kiegészítő építés...|E60 - Szerződéskö...|         HU312 Heves|          10590000.0|                 HUF|         2021-11-14|Szilágyi Sándor J...|                   1|                   2|\n",
      "|                   1|               35928|          2021-09-09|          2021-09-27|Sóskút – egyesüle...|constructions|189,76 m2 hasznos...|E60 - Szerződéskö...|          HU120 Pest|         147506522.0|                 HUF|         2021-11-14|OutSys Szolgáltat...|                   1|                   3|\n",
      "|                   2|               35876|          2021-09-14|          2021-10-01|Bölcsőde építése ...|constructions|Bölcsőde építése ...|E60 - Szerződéskö...|   HU321 Hajdú-Bihar|         107993318.0|                 HUF|         2021-11-13|Németh '99 Keresk...|                   1|                   2|\n",
      "|                   3|               35980|          2021-08-07|          2021-08-18|„Kádár utcai park...|constructions|Beszerzés tárgya ...|E60 - Szerződéskö...|      HU213 Veszprém|         139479109.0|                 HUF|         2021-11-16|Colas Út Építőipa...|                   1|                   3|\n",
      "|                   4|               35927|          2021-06-29|          2021-07-28|Szolnok, csomópon...|constructions|„Szolnok, kanyaro...|E60 - Szerződéskö...|HU322 Jász-Nagyku...|         286163120.0|                 HUF|         2021-11-14|SWIETELSKY Építő ...|                   1|                   2|\n",
      "|                   5|               35875|          2021-09-12|          2021-09-27|Ajka, Táncsics, K...|constructions|Ajka, Táncsics, K...|E60 - Szerződéskö...|      HU213 Veszprém|         138501066.0|                 HUF|         2021-11-13|STRABAG Általános...|                   1|                   3|\n",
      "|            szerint\"|E60 - Szerződéskö...|       HU231 Baranya|          41208016.0|                 HUF|   2021-11-16|Becze József egyé...|                   1|                   2|\"{\"\"page_count\"\":...|  \"\"page_number\"\": 1| \"\"page_size\"\": 100|    \"\"total\"\": 35938| \"\"data\"\": [{\"\"id...| \"\"date\"\": \"\"2021...|\n",
      "|       tartalmazza.\"|E60 - Szerződéskö...|   HU321 Hajdú-Bihar|          29710000.0|                 HUF|   2021-11-14|EuroPlastik Keres...|                   1|                   2|\"{\"\"page_count\"\":...|  \"\"page_number\"\": 1| \"\"page_size\"\": 100|    \"\"total\"\": 35938| \"\"data\"\": [{\"\"id...| \"\"date\"\": \"\"2021...|\n",
      "|                   8|               35924|          2021-09-16|          2021-09-29|OKF irodaház foly...|constructions|1149 Budapest, Mo...|E60 - Szerződéskö...|      HU110 Budapest|         104536352.0|                 HUF|         2021-11-14|Oppidum Szolgálta...|                   1|                   2|\n",
      "|                   9|               35871|          2021-08-05|          2021-08-23|Konferenciaterem ...|constructions|Ajánlatkérő a szé...|E60 - Szerződéskö...|       HU11 Budapest|          56522160.0|                 HUF|         2021-11-13|     D.P. Music Kft.|                   1|                   4|\n",
      "|                  10|               35976|          2021-09-09|          2021-10-06|Ybl villa történe...|constructions|9077m2 1db terüle...|E60 - Szerződéskö...|       HU11 Budapest|         252984755.0|                 HUF|         2021-11-15|DE-SPAN Kereskede...|                   1|                   3|\n",
      "|                  11|               35974|          2021-10-25|          2021-11-05|Iváncsa, Egészség...|constructions|3 rendelő típust ...|E60 - Szerződéskö...|         HU211 Fejér|          46198382.0|                 HUF|         2021-11-15|\"\"\"FARLAMEX\"\" Ing...| Építőipari és Sz...|                   1|\n",
      "|                  12|               35950|          2021-08-08|          2021-08-31|Székesfehérvár fö...|constructions|A közbeszerzés fő...|E60 - Szerződéskö...|         HU211 Fejér|          92697704.0|                 HUF|         2021-11-15|       Doni-Team KFT|                   1|                   2|\n",
      "|csomagokat vissza...|E60 - Szerződéskö...|HU323 Szabolcs-Sz...|          24453900.0|                 HUF|   2021-11-15|Jeges Klíma Szerv...|                   1|                   3|\"{\"\"page_count\"\":...|  \"\"page_number\"\": 1| \"\"page_size\"\": 100|    \"\"total\"\": 35938| \"\"data\"\": [{\"\"id...| \"\"date\"\": \"\"2021...|\n",
      "|megrendelések öss...|E60 - Szerződéskö...|HU323 Szabolcs-Sz...|          46738940.0|                 HUF|   2021-11-15|Gumiabroncs Keres...|                   1|                   3|\"{\"\"page_count\"\":...|  \"\"page_number\"\": 1| \"\"page_size\"\": 100|    \"\"total\"\": 35938| \"\"data\"\": [{\"\"id...| \"\"date\"\": \"\"2021...|\n",
      "|                 be\"|E60 - Szerződéskö...|          HU120 Pest|          16400000.0|                 HUF|   2021-11-15|AQUA-VITA Közmű K...|                   1|                   4|\"{\"\"page_count\"\":...|  \"\"page_number\"\": 1| \"\"page_size\"\": 100|    \"\"total\"\": 35938| \"\"data\"\": [{\"\"id...| \"\"date\"\": \"\"2021...|\n",
      "|Az épület homlokz...| lábazatát és bel...|E60 - Szerződéskö...|        HU232 Somogy|         182563983.0|          HUF|          2021-11-15|T-Zenit Építőipar...|                   1|                   4|\"{\"\"page_count\"\":...| \"\"page_number\"\": 1|  \"\"page_size\"\": 100|    \"\"total\"\": 35938| \"\"data\"\": [{\"\"id...|\n",
      "|  11. rész – 677.800|           - forint\"|E60 - Szerződéskö...|HU33 Dél-Alföld; ...|          41464494.0|          HUF|          2021-11-15|Alföldi Agrárszak...|                   1|                   2|\"{\"\"page_count\"\":...| \"\"page_number\"\": 1|  \"\"page_size\"\": 100|    \"\"total\"\": 35938| \"\"data\"\": [{\"\"id...|\n",
      "|szerződéstervezet...|E60 - Szerződéskö...|   HU331 Bács-Kiskun|          65000000.0|                 HUF|   2021-11-14|MVM Next Energiak...|                   1|                   1|\"{\"\"page_count\"\":...|  \"\"page_number\"\": 1| \"\"page_size\"\": 100|    \"\"total\"\": 35938| \"\"data\"\": [{\"\"id...| \"\"date\"\": \"\"2021...|\n",
      "|valamint az áraza...|E60 - Szerződéskö...|         HU211 Fejér|          54735000.0|                 HUF|   2021-11-14|STRABAG Általános...|                   1|                   2|\"{\"\"page_count\"\":...|  \"\"page_number\"\": 1| \"\"page_size\"\": 100|    \"\"total\"\": 35938| \"\"data\"\": [{\"\"id...| \"\"date\"\": \"\"2021...|\n",
      "+--------------------+--------------------+--------------------+--------------------+--------------------+-------------+--------------------+--------------------+--------------------+--------------------+--------------------+-------------------+--------------------+--------------------+--------------------+\n",
      "only showing top 20 rows\n",
      "\n"
     ]
    }
   ],
   "source": [
    "df = df.drop(\"request_json\")\n",
    "df = df.dropna()\n",
    "\n",
    "print(df.count())\n",
    "df.show()"
   ]
  },
  {
   "cell_type": "code",
   "execution_count": null,
   "id": "d1cb69c1-de7f-4a64-9d50-a17bf9989b2c",
   "metadata": {},
   "outputs": [],
   "source": []
  }
 ],
 "metadata": {
  "kernelspec": {
   "display_name": "Python 3 (ipykernel)",
   "language": "python",
   "name": "python3"
  },
  "language_info": {
   "codemirror_mode": {
    "name": "ipython",
    "version": 3
   },
   "file_extension": ".py",
   "mimetype": "text/x-python",
   "name": "python",
   "nbconvert_exporter": "python",
   "pygments_lexer": "ipython3",
   "version": "3.12.3"
  }
 },
 "nbformat": 4,
 "nbformat_minor": 5
}
