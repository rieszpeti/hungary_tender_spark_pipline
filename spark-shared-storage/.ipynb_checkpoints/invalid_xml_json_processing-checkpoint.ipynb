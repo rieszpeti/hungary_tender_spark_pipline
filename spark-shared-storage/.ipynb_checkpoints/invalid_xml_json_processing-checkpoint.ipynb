{
 "cells": [
  {
   "cell_type": "code",
   "execution_count": 1,
   "metadata": {},
   "outputs": [],
   "source": [
    "import sys\n",
    "import os\n",
    "import nest_asyncio\n",
    "import asyncpg\n",
    "from pyspark.sql import SparkSession\n",
    "import pandas as pd"
   ]
  },
  {
   "cell_type": "code",
   "execution_count": 2,
   "metadata": {},
   "outputs": [],
   "source": [
    "\n",
    "nest_asyncio.apply()\n",
    "\n",
    "DB_CONFIG = {\n",
    "    \"user\": os.getenv(\"POSTGRES_USER\", \"admin\"),\n",
    "    \"password\": os.getenv(\"POSTGRES_PASSWORD\", \"admin\"),\n",
    "    \"database\": os.getenv(\"POSTGRES_DB\", \"tender\"),\n",
    "    \"host\": os.getenv(\"POSTGRES_HOST\", \"postgre\"),\n",
    "    \"port\": int(os.getenv(\"POSTGRES_PORT\", 5432))\n",
    "}\n",
    "\n",
    "async def read_table_as_df() -> pd.DataFrame:\n",
    "    conn = await asyncpg.connect(**DB_CONFIG)\n",
    "    rows = await conn.fetch(\"SELECT * FROM xml_storage\")\n",
    "    df = pd.DataFrame([dict(row) for row in rows])\n",
    "    await conn.close()\n",
    "    return df\n",
    "\n",
    "df = await read_table_as_df()\n",
    "\n",
    "if df.empty:\n",
    "    print(\"Dataframe is empty, exiting program.\")\n",
    "    sys.exit()"
   ]
  },
  {
   "cell_type": "code",
   "execution_count": 3,
   "metadata": {},
   "outputs": [
    {
     "name": "stderr",
     "output_type": "stream",
     "text": [
      "Setting default log level to \"WARN\".\n",
      "To adjust logging level use sc.setLogLevel(newLevel). For SparkR, use setLogLevel(newLevel).\n",
      "25/04/12 16:31:42 WARN NativeCodeLoader: Unable to load native-hadoop library for your platform... using builtin-java classes where applicable\n",
      "25/04/12 16:31:43 WARN Utils: Service 'SparkUI' could not bind on port 4040. Attempting port 4041.\n"
     ]
    }
   ],
   "source": [
    "spark = SparkSession.builder \\\n",
    "                    .appName(\"File_to_spark\") \\\n",
    "                    .getOrCreate()\n",
    "\n",
    "spark.sparkContext.setLogLevel(\"ERROR\")"
   ]
  },
  {
   "cell_type": "code",
   "execution_count": 4,
   "metadata": {},
   "outputs": [],
   "source": [
    "df = spark.createDataFrame(df)\n",
    "\n",
    "df.show()"
   ]
  },
  {
   "cell_type": "code",
   "execution_count": null,
   "metadata": {},
   "outputs": [],
   "source": []
  }
 ],
 "metadata": {
  "kernelspec": {
   "display_name": "Python 3 (ipykernel)",
   "language": "python",
   "name": "python3"
  },
  "language_info": {
   "codemirror_mode": {
    "name": "ipython",
    "version": 3
   },
   "file_extension": ".py",
   "mimetype": "text/x-python",
   "name": "python",
   "nbconvert_exporter": "python",
   "pygments_lexer": "ipython3",
   "version": "3.12.3"
  }
 },
 "nbformat": 4,
 "nbformat_minor": 4
}
