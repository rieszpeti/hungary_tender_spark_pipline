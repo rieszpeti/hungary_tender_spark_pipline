{
 "cells": [
  {
   "cell_type": "code",
   "execution_count": 2,
   "metadata": {},
   "outputs": [],
   "source": [
    "import sys\n",
    "import os\n",
    "import nest_asyncio\n",
    "import asyncpg\n",
    "from pyspark.sql import SparkSession\n",
    "import pandas as pd"
   ]
  },
  {
   "cell_type": "code",
   "execution_count": 3,
   "metadata": {},
   "outputs": [
    {
     "ename": "gaierror",
     "evalue": "[Errno 11001] getaddrinfo failed",
     "output_type": "error",
     "traceback": [
      "\u001b[31m---------------------------------------------------------------------------\u001b[39m",
      "\u001b[31mgaierror\u001b[39m                                  Traceback (most recent call last)",
      "\u001b[36mCell\u001b[39m\u001b[36m \u001b[39m\u001b[32mIn[3]\u001b[39m\u001b[32m, line 18\u001b[39m\n\u001b[32m     15\u001b[39m     \u001b[38;5;28;01mawait\u001b[39;00m conn.close()\n\u001b[32m     16\u001b[39m     \u001b[38;5;28;01mreturn\u001b[39;00m df\n\u001b[32m---> \u001b[39m\u001b[32m18\u001b[39m df = \u001b[38;5;28;01mawait\u001b[39;00m read_table_as_df()\n\u001b[32m     20\u001b[39m \u001b[38;5;28;01mif\u001b[39;00m df.empty:\n\u001b[32m     21\u001b[39m     \u001b[38;5;28mprint\u001b[39m(\u001b[33m\"\u001b[39m\u001b[33mDataframe is empty, exiting program.\u001b[39m\u001b[33m\"\u001b[39m)\n",
      "\u001b[36mCell\u001b[39m\u001b[36m \u001b[39m\u001b[32mIn[3]\u001b[39m\u001b[32m, line 12\u001b[39m, in \u001b[36mread_table_as_df\u001b[39m\u001b[34m()\u001b[39m\n\u001b[32m     11\u001b[39m \u001b[38;5;28;01masync\u001b[39;00m \u001b[38;5;28;01mdef\u001b[39;00m\u001b[38;5;250m \u001b[39m\u001b[34mread_table_as_df\u001b[39m() -> pd.DataFrame:\n\u001b[32m---> \u001b[39m\u001b[32m12\u001b[39m     conn = \u001b[38;5;28;01mawait\u001b[39;00m asyncpg.connect(**DB_CONFIG)\n\u001b[32m     13\u001b[39m     rows = \u001b[38;5;28;01mawait\u001b[39;00m conn.fetch(\u001b[33m\"\u001b[39m\u001b[33mSELECT * FROM xml_storage\u001b[39m\u001b[33m\"\u001b[39m)\n\u001b[32m     14\u001b[39m     df = pd.DataFrame([\u001b[38;5;28mdict\u001b[39m(row) \u001b[38;5;28;01mfor\u001b[39;00m row \u001b[38;5;129;01min\u001b[39;00m rows])\n",
      "\u001b[36mFile \u001b[39m\u001b[32mc:\\Users\\SillySharp\\source\\repos\\projektmunka_III\\.venv\\Lib\\site-packages\\asyncpg\\connection.py:2421\u001b[39m, in \u001b[36mconnect\u001b[39m\u001b[34m(dsn, host, port, user, password, passfile, database, loop, timeout, statement_cache_size, max_cached_statement_lifetime, max_cacheable_statement_size, command_timeout, ssl, direct_tls, connection_class, record_class, server_settings, target_session_attrs, krbsrvname, gsslib)\u001b[39m\n\u001b[32m   2418\u001b[39m     loop = asyncio.get_event_loop()\n\u001b[32m   2420\u001b[39m \u001b[38;5;28;01masync\u001b[39;00m \u001b[38;5;28;01mwith\u001b[39;00m compat.timeout(timeout):\n\u001b[32m-> \u001b[39m\u001b[32m2421\u001b[39m     \u001b[38;5;28;01mreturn\u001b[39;00m \u001b[38;5;28;01mawait\u001b[39;00m connect_utils._connect(\n\u001b[32m   2422\u001b[39m         loop=loop,\n\u001b[32m   2423\u001b[39m         connection_class=connection_class,\n\u001b[32m   2424\u001b[39m         record_class=record_class,\n\u001b[32m   2425\u001b[39m         dsn=dsn,\n\u001b[32m   2426\u001b[39m         host=host,\n\u001b[32m   2427\u001b[39m         port=port,\n\u001b[32m   2428\u001b[39m         user=user,\n\u001b[32m   2429\u001b[39m         password=password,\n\u001b[32m   2430\u001b[39m         passfile=passfile,\n\u001b[32m   2431\u001b[39m         ssl=ssl,\n\u001b[32m   2432\u001b[39m         direct_tls=direct_tls,\n\u001b[32m   2433\u001b[39m         database=database,\n\u001b[32m   2434\u001b[39m         server_settings=server_settings,\n\u001b[32m   2435\u001b[39m         command_timeout=command_timeout,\n\u001b[32m   2436\u001b[39m         statement_cache_size=statement_cache_size,\n\u001b[32m   2437\u001b[39m         max_cached_statement_lifetime=max_cached_statement_lifetime,\n\u001b[32m   2438\u001b[39m         max_cacheable_statement_size=max_cacheable_statement_size,\n\u001b[32m   2439\u001b[39m         target_session_attrs=target_session_attrs,\n\u001b[32m   2440\u001b[39m         krbsrvname=krbsrvname,\n\u001b[32m   2441\u001b[39m         gsslib=gsslib,\n\u001b[32m   2442\u001b[39m     )\n",
      "\u001b[36mFile \u001b[39m\u001b[32mc:\\Users\\SillySharp\\source\\repos\\projektmunka_III\\.venv\\Lib\\site-packages\\asyncpg\\connect_utils.py:1075\u001b[39m, in \u001b[36m_connect\u001b[39m\u001b[34m(loop, connection_class, record_class, **kwargs)\u001b[39m\n\u001b[32m   1072\u001b[39m \u001b[38;5;28;01mif\u001b[39;00m chosen_connection:\n\u001b[32m   1073\u001b[39m     \u001b[38;5;28;01mreturn\u001b[39;00m chosen_connection\n\u001b[32m-> \u001b[39m\u001b[32m1075\u001b[39m \u001b[38;5;28;01mraise\u001b[39;00m last_error \u001b[38;5;129;01mor\u001b[39;00m exceptions.TargetServerAttributeNotMatched(\n\u001b[32m   1076\u001b[39m     \u001b[33m'\u001b[39m\u001b[33mNone of the hosts match the target attribute requirement \u001b[39m\u001b[33m'\u001b[39m\n\u001b[32m   1077\u001b[39m     \u001b[33m'\u001b[39m\u001b[38;5;132;01m{!r}\u001b[39;00m\u001b[33m'\u001b[39m.format(target_attr)\n\u001b[32m   1078\u001b[39m )\n",
      "\u001b[36mFile \u001b[39m\u001b[32mc:\\Users\\SillySharp\\source\\repos\\projektmunka_III\\.venv\\Lib\\site-packages\\asyncpg\\connect_utils.py:1049\u001b[39m, in \u001b[36m_connect\u001b[39m\u001b[34m(loop, connection_class, record_class, **kwargs)\u001b[39m\n\u001b[32m   1047\u001b[39m \u001b[38;5;28;01mfor\u001b[39;00m addr \u001b[38;5;129;01min\u001b[39;00m addrs:\n\u001b[32m   1048\u001b[39m     \u001b[38;5;28;01mtry\u001b[39;00m:\n\u001b[32m-> \u001b[39m\u001b[32m1049\u001b[39m         conn = \u001b[38;5;28;01mawait\u001b[39;00m _connect_addr(\n\u001b[32m   1050\u001b[39m             addr=addr,\n\u001b[32m   1051\u001b[39m             loop=loop,\n\u001b[32m   1052\u001b[39m             params=params,\n\u001b[32m   1053\u001b[39m             config=config,\n\u001b[32m   1054\u001b[39m             connection_class=connection_class,\n\u001b[32m   1055\u001b[39m             record_class=record_class,\n\u001b[32m   1056\u001b[39m         )\n\u001b[32m   1057\u001b[39m         candidates.append(conn)\n\u001b[32m   1058\u001b[39m         \u001b[38;5;28;01mif\u001b[39;00m \u001b[38;5;28;01mawait\u001b[39;00m _can_use_connection(conn, target_attr):\n",
      "\u001b[36mFile \u001b[39m\u001b[32mc:\\Users\\SillySharp\\source\\repos\\projektmunka_III\\.venv\\Lib\\site-packages\\asyncpg\\connect_utils.py:886\u001b[39m, in \u001b[36m_connect_addr\u001b[39m\u001b[34m(addr, loop, params, config, connection_class, record_class)\u001b[39m\n\u001b[32m    884\u001b[39m \u001b[38;5;66;03m# first attempt\u001b[39;00m\n\u001b[32m    885\u001b[39m \u001b[38;5;28;01mtry\u001b[39;00m:\n\u001b[32m--> \u001b[39m\u001b[32m886\u001b[39m     \u001b[38;5;28;01mreturn\u001b[39;00m \u001b[38;5;28;01mawait\u001b[39;00m __connect_addr(params, \u001b[38;5;28;01mTrue\u001b[39;00m, *args)\n\u001b[32m    887\u001b[39m \u001b[38;5;28;01mexcept\u001b[39;00m _RetryConnectSignal:\n\u001b[32m    888\u001b[39m     \u001b[38;5;28;01mpass\u001b[39;00m\n",
      "\u001b[36mFile \u001b[39m\u001b[32mc:\\Users\\SillySharp\\source\\repos\\projektmunka_III\\.venv\\Lib\\site-packages\\asyncpg\\connect_utils.py:931\u001b[39m, in \u001b[36m__connect_addr\u001b[39m\u001b[34m(params, retry, addr, loop, config, connection_class, record_class, params_input)\u001b[39m\n\u001b[32m    928\u001b[39m \u001b[38;5;28;01melse\u001b[39;00m:\n\u001b[32m    929\u001b[39m     connector = loop.create_connection(proto_factory, *addr)\n\u001b[32m--> \u001b[39m\u001b[32m931\u001b[39m tr, pr = \u001b[38;5;28;01mawait\u001b[39;00m connector\n\u001b[32m    933\u001b[39m \u001b[38;5;28;01mtry\u001b[39;00m:\n\u001b[32m    934\u001b[39m     \u001b[38;5;28;01mawait\u001b[39;00m connected\n",
      "\u001b[36mFile \u001b[39m\u001b[32mc:\\Users\\SillySharp\\source\\repos\\projektmunka_III\\.venv\\Lib\\site-packages\\asyncpg\\connect_utils.py:802\u001b[39m, in \u001b[36m_create_ssl_connection\u001b[39m\u001b[34m(protocol_factory, host, port, loop, ssl_context, ssl_is_advisory)\u001b[39m\n\u001b[32m    799\u001b[39m \u001b[38;5;28;01masync\u001b[39;00m \u001b[38;5;28;01mdef\u001b[39;00m\u001b[38;5;250m \u001b[39m\u001b[34m_create_ssl_connection\u001b[39m(protocol_factory, host, port, *,\n\u001b[32m    800\u001b[39m                                  loop, ssl_context, ssl_is_advisory=\u001b[38;5;28;01mFalse\u001b[39;00m):\n\u001b[32m--> \u001b[39m\u001b[32m802\u001b[39m     tr, pr = \u001b[38;5;28;01mawait\u001b[39;00m loop.create_connection(\n\u001b[32m    803\u001b[39m         \u001b[38;5;28;01mlambda\u001b[39;00m: TLSUpgradeProto(loop, host, port,\n\u001b[32m    804\u001b[39m                                 ssl_context, ssl_is_advisory),\n\u001b[32m    805\u001b[39m         host, port)\n\u001b[32m    807\u001b[39m     tr.write(struct.pack(\u001b[33m'\u001b[39m\u001b[33m!ll\u001b[39m\u001b[33m'\u001b[39m, \u001b[32m8\u001b[39m, \u001b[32m80877103\u001b[39m))  \u001b[38;5;66;03m# SSLRequest message.\u001b[39;00m\n\u001b[32m    809\u001b[39m     \u001b[38;5;28;01mtry\u001b[39;00m:\n",
      "\u001b[36mFile \u001b[39m\u001b[32m~\\AppData\\Local\\Programs\\Python\\Python312\\Lib\\asyncio\\base_events.py:1077\u001b[39m, in \u001b[36mBaseEventLoop.create_connection\u001b[39m\u001b[34m(self, protocol_factory, host, port, ssl, family, proto, flags, sock, local_addr, server_hostname, ssl_handshake_timeout, ssl_shutdown_timeout, happy_eyeballs_delay, interleave, all_errors)\u001b[39m\n\u001b[32m   1073\u001b[39m \u001b[38;5;28;01mif\u001b[39;00m sock \u001b[38;5;129;01mis\u001b[39;00m \u001b[38;5;129;01mnot\u001b[39;00m \u001b[38;5;28;01mNone\u001b[39;00m:\n\u001b[32m   1074\u001b[39m     \u001b[38;5;28;01mraise\u001b[39;00m \u001b[38;5;167;01mValueError\u001b[39;00m(\n\u001b[32m   1075\u001b[39m         \u001b[33m'\u001b[39m\u001b[33mhost/port and sock can not be specified at the same time\u001b[39m\u001b[33m'\u001b[39m)\n\u001b[32m-> \u001b[39m\u001b[32m1077\u001b[39m infos = \u001b[38;5;28;01mawait\u001b[39;00m \u001b[38;5;28mself\u001b[39m._ensure_resolved(\n\u001b[32m   1078\u001b[39m     (host, port), family=family,\n\u001b[32m   1079\u001b[39m     \u001b[38;5;28mtype\u001b[39m=socket.SOCK_STREAM, proto=proto, flags=flags, loop=\u001b[38;5;28mself\u001b[39m)\n\u001b[32m   1080\u001b[39m \u001b[38;5;28;01mif\u001b[39;00m \u001b[38;5;129;01mnot\u001b[39;00m infos:\n\u001b[32m   1081\u001b[39m     \u001b[38;5;28;01mraise\u001b[39;00m \u001b[38;5;167;01mOSError\u001b[39;00m(\u001b[33m'\u001b[39m\u001b[33mgetaddrinfo() returned empty list\u001b[39m\u001b[33m'\u001b[39m)\n",
      "\u001b[36mFile \u001b[39m\u001b[32m~\\AppData\\Local\\Programs\\Python\\Python312\\Lib\\asyncio\\base_events.py:1453\u001b[39m, in \u001b[36mBaseEventLoop._ensure_resolved\u001b[39m\u001b[34m(self, address, family, type, proto, flags, loop)\u001b[39m\n\u001b[32m   1451\u001b[39m     \u001b[38;5;28;01mreturn\u001b[39;00m [info]\n\u001b[32m   1452\u001b[39m \u001b[38;5;28;01melse\u001b[39;00m:\n\u001b[32m-> \u001b[39m\u001b[32m1453\u001b[39m     \u001b[38;5;28;01mreturn\u001b[39;00m \u001b[38;5;28;01mawait\u001b[39;00m loop.getaddrinfo(host, port, family=family, \u001b[38;5;28mtype\u001b[39m=\u001b[38;5;28mtype\u001b[39m,\n\u001b[32m   1454\u001b[39m                                   proto=proto, flags=flags)\n",
      "\u001b[36mFile \u001b[39m\u001b[32m~\\AppData\\Local\\Programs\\Python\\Python312\\Lib\\asyncio\\base_events.py:898\u001b[39m, in \u001b[36mBaseEventLoop.getaddrinfo\u001b[39m\u001b[34m(self, host, port, family, type, proto, flags)\u001b[39m\n\u001b[32m    895\u001b[39m \u001b[38;5;28;01melse\u001b[39;00m:\n\u001b[32m    896\u001b[39m     getaddr_func = socket.getaddrinfo\n\u001b[32m--> \u001b[39m\u001b[32m898\u001b[39m \u001b[38;5;28;01mreturn\u001b[39;00m \u001b[38;5;28;01mawait\u001b[39;00m \u001b[38;5;28mself\u001b[39m.run_in_executor(\n\u001b[32m    899\u001b[39m     \u001b[38;5;28;01mNone\u001b[39;00m, getaddr_func, host, port, family, \u001b[38;5;28mtype\u001b[39m, proto, flags)\n",
      "\u001b[36mFile \u001b[39m\u001b[32m~\\AppData\\Local\\Programs\\Python\\Python312\\Lib\\asyncio\\futures.py:287\u001b[39m, in \u001b[36mFuture.__await__\u001b[39m\u001b[34m(self)\u001b[39m\n\u001b[32m    285\u001b[39m \u001b[38;5;28;01mif\u001b[39;00m \u001b[38;5;129;01mnot\u001b[39;00m \u001b[38;5;28mself\u001b[39m.done():\n\u001b[32m    286\u001b[39m     \u001b[38;5;28mself\u001b[39m._asyncio_future_blocking = \u001b[38;5;28;01mTrue\u001b[39;00m\n\u001b[32m--> \u001b[39m\u001b[32m287\u001b[39m     \u001b[38;5;28;01myield\u001b[39;00m \u001b[38;5;28mself\u001b[39m  \u001b[38;5;66;03m# This tells Task to wait for completion.\u001b[39;00m\n\u001b[32m    288\u001b[39m \u001b[38;5;28;01mif\u001b[39;00m \u001b[38;5;129;01mnot\u001b[39;00m \u001b[38;5;28mself\u001b[39m.done():\n\u001b[32m    289\u001b[39m     \u001b[38;5;28;01mraise\u001b[39;00m \u001b[38;5;167;01mRuntimeError\u001b[39;00m(\u001b[33m\"\u001b[39m\u001b[33mawait wasn\u001b[39m\u001b[33m'\u001b[39m\u001b[33mt used with future\u001b[39m\u001b[33m\"\u001b[39m)\n",
      "\u001b[36mFile \u001b[39m\u001b[32m~\\AppData\\Local\\Programs\\Python\\Python312\\Lib\\asyncio\\futures.py:203\u001b[39m, in \u001b[36mFuture.result\u001b[39m\u001b[34m(self)\u001b[39m\n\u001b[32m    201\u001b[39m \u001b[38;5;28mself\u001b[39m.__log_traceback = \u001b[38;5;28;01mFalse\u001b[39;00m\n\u001b[32m    202\u001b[39m \u001b[38;5;28;01mif\u001b[39;00m \u001b[38;5;28mself\u001b[39m._exception \u001b[38;5;129;01mis\u001b[39;00m \u001b[38;5;129;01mnot\u001b[39;00m \u001b[38;5;28;01mNone\u001b[39;00m:\n\u001b[32m--> \u001b[39m\u001b[32m203\u001b[39m     \u001b[38;5;28;01mraise\u001b[39;00m \u001b[38;5;28mself\u001b[39m._exception.with_traceback(\u001b[38;5;28mself\u001b[39m._exception_tb)\n\u001b[32m    204\u001b[39m \u001b[38;5;28;01mreturn\u001b[39;00m \u001b[38;5;28mself\u001b[39m._result\n",
      "\u001b[36mFile \u001b[39m\u001b[32m~\\AppData\\Local\\Programs\\Python\\Python312\\Lib\\concurrent\\futures\\thread.py:58\u001b[39m, in \u001b[36m_WorkItem.run\u001b[39m\u001b[34m(self)\u001b[39m\n\u001b[32m     55\u001b[39m     \u001b[38;5;28;01mreturn\u001b[39;00m\n\u001b[32m     57\u001b[39m \u001b[38;5;28;01mtry\u001b[39;00m:\n\u001b[32m---> \u001b[39m\u001b[32m58\u001b[39m     result = \u001b[38;5;28;43mself\u001b[39;49m\u001b[43m.\u001b[49m\u001b[43mfn\u001b[49m\u001b[43m(\u001b[49m\u001b[43m*\u001b[49m\u001b[38;5;28;43mself\u001b[39;49m\u001b[43m.\u001b[49m\u001b[43margs\u001b[49m\u001b[43m,\u001b[49m\u001b[43m \u001b[49m\u001b[43m*\u001b[49m\u001b[43m*\u001b[49m\u001b[38;5;28;43mself\u001b[39;49m\u001b[43m.\u001b[49m\u001b[43mkwargs\u001b[49m\u001b[43m)\u001b[49m\n\u001b[32m     59\u001b[39m \u001b[38;5;28;01mexcept\u001b[39;00m \u001b[38;5;167;01mBaseException\u001b[39;00m \u001b[38;5;28;01mas\u001b[39;00m exc:\n\u001b[32m     60\u001b[39m     \u001b[38;5;28mself\u001b[39m.future.set_exception(exc)\n",
      "\u001b[36mFile \u001b[39m\u001b[32m~\\AppData\\Local\\Programs\\Python\\Python312\\Lib\\socket.py:963\u001b[39m, in \u001b[36mgetaddrinfo\u001b[39m\u001b[34m(host, port, family, type, proto, flags)\u001b[39m\n\u001b[32m    960\u001b[39m \u001b[38;5;66;03m# We override this function since we want to translate the numeric family\u001b[39;00m\n\u001b[32m    961\u001b[39m \u001b[38;5;66;03m# and socket type values to enum constants.\u001b[39;00m\n\u001b[32m    962\u001b[39m addrlist = []\n\u001b[32m--> \u001b[39m\u001b[32m963\u001b[39m \u001b[38;5;28;01mfor\u001b[39;00m res \u001b[38;5;129;01min\u001b[39;00m \u001b[43m_socket\u001b[49m\u001b[43m.\u001b[49m\u001b[43mgetaddrinfo\u001b[49m\u001b[43m(\u001b[49m\u001b[43mhost\u001b[49m\u001b[43m,\u001b[49m\u001b[43m \u001b[49m\u001b[43mport\u001b[49m\u001b[43m,\u001b[49m\u001b[43m \u001b[49m\u001b[43mfamily\u001b[49m\u001b[43m,\u001b[49m\u001b[43m \u001b[49m\u001b[38;5;28;43mtype\u001b[39;49m\u001b[43m,\u001b[49m\u001b[43m \u001b[49m\u001b[43mproto\u001b[49m\u001b[43m,\u001b[49m\u001b[43m \u001b[49m\u001b[43mflags\u001b[49m\u001b[43m)\u001b[49m:\n\u001b[32m    964\u001b[39m     af, socktype, proto, canonname, sa = res\n\u001b[32m    965\u001b[39m     addrlist.append((_intenum_converter(af, AddressFamily),\n\u001b[32m    966\u001b[39m                      _intenum_converter(socktype, SocketKind),\n\u001b[32m    967\u001b[39m                      proto, canonname, sa))\n",
      "\u001b[31mgaierror\u001b[39m: [Errno 11001] getaddrinfo failed"
     ]
    }
   ],
   "source": [
    "\n",
    "nest_asyncio.apply()\n",
    "\n",
    "DB_CONFIG = {\n",
    "    \"user\": os.getenv(\"POSTGRES_USER\", \"admin\"),\n",
    "    \"password\": os.getenv(\"POSTGRES_PASSWORD\", \"admin\"),\n",
    "    \"database\": os.getenv(\"POSTGRES_DB\", \"tender\"),\n",
    "    \"host\": os.getenv(\"POSTGRES_HOST\", \"postgre\"),\n",
    "    \"port\": int(os.getenv(\"POSTGRES_PORT\", 5432))\n",
    "}\n",
    "\n",
    "async def read_table_as_df() -> pd.DataFrame:\n",
    "    conn = await asyncpg.connect(**DB_CONFIG)\n",
    "    rows = await conn.fetch(\"SELECT * FROM xml_storage\")\n",
    "    df = pd.DataFrame([dict(row) for row in rows])\n",
    "    await conn.close()\n",
    "    return df\n",
    "\n",
    "df = await read_table_as_df()\n",
    "\n",
    "if df.empty:\n",
    "    print(\"Dataframe is empty, exiting program.\")\n",
    "    sys.exit()"
   ]
  },
  {
   "cell_type": "code",
   "execution_count": null,
   "metadata": {},
   "outputs": [],
   "source": [
    "spark = SparkSession.builder \\\n",
    "                    .appName(\"File_to_spark\") \\\n",
    "                    .getOrCreate()\n",
    "\n",
    "spark.sparkContext.setLogLevel(\"ERROR\")"
   ]
  },
  {
   "cell_type": "code",
   "execution_count": null,
   "metadata": {},
   "outputs": [
    {
     "ename": "NameError",
     "evalue": "name 'spark' is not defined",
     "output_type": "error",
     "traceback": [
      "\u001b[31m---------------------------------------------------------------------------\u001b[39m",
      "\u001b[31mNameError\u001b[39m                                 Traceback (most recent call last)",
      "\u001b[36mCell\u001b[39m\u001b[36m \u001b[39m\u001b[32mIn[1]\u001b[39m\u001b[32m, line 1\u001b[39m\n\u001b[32m----> \u001b[39m\u001b[32m1\u001b[39m df = \u001b[43mspark\u001b[49m.createDataFrame(df)\n",
      "\u001b[31mNameError\u001b[39m: name 'spark' is not defined"
     ]
    }
   ],
   "source": [
    "df = spark.createDataFrame(df)"
   ]
  }
 ],
 "metadata": {
  "kernelspec": {
   "display_name": ".venv",
   "language": "python",
   "name": "python3"
  },
  "language_info": {
   "codemirror_mode": {
    "name": "ipython",
    "version": 3
   },
   "file_extension": ".py",
   "mimetype": "text/x-python",
   "name": "python",
   "nbconvert_exporter": "python",
   "pygments_lexer": "ipython3",
   "version": "3.12.1"
  }
 },
 "nbformat": 4,
 "nbformat_minor": 2
}
